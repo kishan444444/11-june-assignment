{
 "cells": [
  {
   "cell_type": "code",
   "execution_count": null,
   "id": "4cdd6735-7222-41eb-9b6c-6a260927f6ad",
   "metadata": {
    "tags": []
   },
   "outputs": [],
   "source": [
    "#1 What is a lambda function in Python, and how does it differ from a regular function?\n",
    "\"\"\"\n",
    " Regular functions can be used as any other variable or passed as an argument \n",
    " to another function, while lambda functions are typically used as arguments \n",
    " to other functions.\n",
    "\"\"\""
   ]
  },
  {
   "cell_type": "code",
   "execution_count": null,
   "id": "36ba2203-329c-4370-9273-fe915d3c735a",
   "metadata": {},
   "outputs": [],
   "source": [
    "#2 Can a lambda function in Python have multiple arguments? If yes, how can you define and use them?\n",
    "\"\"\"\n",
    "They can have any number of arguments but only one expression.\n",
    "A lambda function cannot contain any statements, \n",
    "and it returns a function object which can be assigned to any variable. \n",
    "They are generally used for one-line expressions. \n",
    "Normal functions are created using the def keyword\n",
    "\"\"\""
   ]
  },
  {
   "cell_type": "code",
   "execution_count": null,
   "id": "d470b892-f388-4397-ba07-4491bbb14635",
   "metadata": {},
   "outputs": [],
   "source": [
    "#3 How are lambda functions typically used in Python? Provide an example use case.\n",
    "\"\"\"\n",
    "You should use the lambda function to create simple expressions. \n",
    "For example, expressions that do not include complex structures such as if-else, \n",
    "for-loops, and so on. So, for example, if you want to create a function with a for-loop, \n",
    "you should use a user-defined function.\n",
    "add = lambda x, y: x + y\n",
    "print(add(5, 3))  # Output: 8\n",
    "\"\"\"\n"
   ]
  },
  {
   "cell_type": "code",
   "execution_count": null,
   "id": "4c7d4032-37ad-49b9-830c-4f900c2596a4",
   "metadata": {},
   "outputs": [],
   "source": [
    "#4 What are the advantages and limitations of lambda functions compared to regular functions in Python?\n",
    "\"\"\"\n",
    "Lambda functions can be a powerful tool for writing concise, readable, and efficient code.\n",
    "But they have some limitations, such as being restricted to a single expression and having limited\n",
    "functionality compared to named functions\n",
    "\"\"\""
   ]
  },
  {
   "cell_type": "code",
   "execution_count": null,
   "id": "ff01b319-7543-4b75-9d2d-6e00a11ee59e",
   "metadata": {},
   "outputs": [],
   "source": [
    "#5 Are lambda functions in Python able to access variables defined outside of their own scope?Explain with an example.\n",
    "\"\"\"\n",
    "Lambda functions have their own local namespace and cannot access\n",
    "variables other than those in their parameter list and those in the \n",
    "global namespace.\n",
    "\"\"\""
   ]
  },
  {
   "cell_type": "code",
   "execution_count": null,
   "id": "2b45d994-687b-4ab4-9a3e-ee1efe8b6288",
   "metadata": {},
   "outputs": [],
   "source": [
    "#6 Write a lambda function to calculate the square of a given number.\n",
    "\"\"\"\n",
    "lambda_func =lambda num: num ** 2\n",
    "lambda_func(3)\n",
    "9\n",
    "\"\"\""
   ]
  },
  {
   "cell_type": "code",
   "execution_count": null,
   "id": "8de1105c-38e3-4c9d-8375-15325f89cea1",
   "metadata": {
    "tags": []
   },
   "outputs": [],
   "source": [
    "#7 Create a lambda function to find the maximum value in a list of integers.\n",
    "mylist = [25, 35, 100, 10, 60]\n",
    "max_number = max(mylist, key=lambda x:int(x))\n",
    "print(max_number)"
   ]
  },
  {
   "cell_type": "code",
   "execution_count": null,
   "id": "3d27a68a-b250-4c9f-ab4f-d71b3523f044",
   "metadata": {
    "tags": []
   },
   "outputs": [],
   "source": [
    "#8 Implement a lambda function to filter out all the even numbers from a list of integers.\n",
    "\n",
    "even_or_odd = lambda x: 'even' if x%2==0 else 'odd'\n",
    "print(even_or_odd(4))  # Output: 'odd\n"
   ]
  },
  {
   "cell_type": "code",
   "execution_count": null,
   "id": "0d3d8ca5-1db1-457a-8301-0947e698c0c7",
   "metadata": {
    "tags": []
   },
   "outputs": [],
   "source": [
    "#9 Write a lambda function to sort a list of strings in ascending order based on the length of each string.\n",
    "myList = [\"rohan\", \"amy\", \"sapna\", \"muhammad\", \"aakash\", \"raunak\", \"chinmoy\"]\n",
    " \n",
    "sortedList = sorted(myList, key=lambda x: len(x))\n",
    " \n",
    "print(sortedList)\n"
   ]
  },
  {
   "cell_type": "code",
   "execution_count": null,
   "id": "fd57d6fe-7a38-4e87-882e-2c6eef392d52",
   "metadata": {
    "tags": []
   },
   "outputs": [],
   "source": [
    "#10 Create a lambda function that takes two lists as input and returns a new list containing the common elements between the two lists.\n",
    "import itertools\n",
    "def common_member(a, b):\n",
    "    a_set = set(a)\n",
    "    b_set = set(b)\n",
    "    #Using filterfalse\n",
    "    not_in_a = set(itertools.filterfalse(lambda x: x in a_set, b_set))\n",
    "    not_in_b = set(itertools.filterfalse(lambda x: x in b_set, a_set))\n",
    "     \n",
    "    result = set(a_set).intersection(set(b_set) - not_in_a).union(set(b_set).intersection(set(a_set) - not_in_b))\n",
    "    return list(result)\n",
    "a = [1, 2, 3, 4, 5]\n",
    "b = [5, 6, 7, 8, 9]\n",
    "print(\"The common elements in the two lists are: \")\n",
    "print(common_member(a, b))"
   ]
  },
  {
   "cell_type": "code",
   "execution_count": null,
   "id": "6f69db4c-2aaf-4745-8edd-17bf4efa336b",
   "metadata": {},
   "outputs": [],
   "source": [
    "#11. Write a recursive function to calculate the factorial of a given positive integer.\n",
    "\n",
    "def factorial(n):\n",
    "    # Base case: 1! = 1\n",
    "    if n == 1:\n",
    "        return 1\n",
    "    # Recursive case: n! = n * (n-1)!\n",
    "    else:\n",
    "        return n * factorial(n-1)\n",
    "factorial(5)"
   ]
  },
  {
   "cell_type": "code",
   "execution_count": null,
   "id": "36f5138a-d547-4418-af0b-8406f2be08ae",
   "metadata": {
    "tags": []
   },
   "outputs": [],
   "source": [
    "#12. Implement a recursive function to compute the nth Fibonacci number.?\n",
    "\n",
    "def my_fibonacci(n):\n",
    "    a, b = 0, 1\n",
    "    for i in range(n):\n",
    "        print(a)\n",
    "        a, b = b, a + b\n",
    "\n",
    "my_fibonacci(7)"
   ]
  },
  {
   "cell_type": "code",
   "execution_count": null,
   "id": "7bd689e2-91aa-46f0-8d1b-15d94377d278",
   "metadata": {
    "tags": []
   },
   "outputs": [],
   "source": [
    "#13  Create a recursive function to find the sum of all the elements in a given list.\n",
    "def recursive_sum(n):\n",
    "    # Base case\n",
    "    if n == 1:\n",
    "        return 1\n",
    "    # Recursive case\n",
    "    else:\n",
    "        return n + recursive_sum(n - 1)\n",
    "\n",
    "print(recursive_sum(13))  "
   ]
  },
  {
   "cell_type": "code",
   "execution_count": null,
   "id": "138b52f3-536d-4725-b8e1-29dd9541ede6",
   "metadata": {
    "tags": []
   },
   "outputs": [],
   "source": [
    "#14 Write a recursive function to determine whether a given string is a palindrome.\n",
    "\"\"\"\n",
    "string=input(\"Enter string : \") \n",
    " \n",
    "#Declare an empty string variable   \n",
    "revstr=\"\" \n",
    " \n",
    "#Iterate string with for loop \n",
    "for i in string: \n",
    "    revstr=i+revstr   \n",
    "print(\"Reversed string : \", revstr) \n",
    " \n",
    "if(string == revstr): \n",
    "   print(\"The string is a palindrome.\") \n",
    "else: \n",
    "   print(\"The string is not a palindrome.\")\n",
    "\"\"\""
   ]
  },
  {
   "cell_type": "code",
   "execution_count": null,
   "id": "382ba2dd-9c4f-4688-9984-d347850bb44e",
   "metadata": {
    "tags": []
   },
   "outputs": [],
   "source": [
    "#15.Implement a recursive function to find the greatest common divisor (GCD) of two positive integers.\n",
    "\"\"\"\n",
    "int hcf(int n1, int n2);\n",
    "int main() {\n",
    "    int n1, n2;\n",
    "    printf(\"Enter two positive integers: \");\n",
    "    scanf(\"%d %d\", &n1, &n2);\n",
    "    printf(\"G.C.D of %d and %d is %d.\", n1, n2, hcf(n1, n2));\n",
    "    return 0;\n",
    "}\n",
    "\n",
    "int hcf(int n1, int n2) {\n",
    "    if (n2 != 0)\n",
    "        return hcf(n2, n1 % n2);\n",
    "    else\n",
    "        return n1;\n",
    "}\n",
    "\"\"\""
   ]
  },
  {
   "cell_type": "code",
   "execution_count": null,
   "id": "52c5d3da-6f6f-49ef-9dab-7b98a2edfa2b",
   "metadata": {},
   "outputs": [],
   "source": []
  }
 ],
 "metadata": {
  "kernelspec": {
   "display_name": "Python 3 (ipykernel)",
   "language": "python",
   "name": "python3"
  },
  "language_info": {
   "codemirror_mode": {
    "name": "ipython",
    "version": 3
   },
   "file_extension": ".py",
   "mimetype": "text/x-python",
   "name": "python",
   "nbconvert_exporter": "python",
   "pygments_lexer": "ipython3",
   "version": "3.11.5"
  }
 },
 "nbformat": 4,
 "nbformat_minor": 5
}
